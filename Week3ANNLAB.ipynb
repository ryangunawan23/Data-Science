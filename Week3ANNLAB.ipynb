{
 "cells": [
  {
   "cell_type": "code",
   "execution_count": 1,
   "id": "korean-marketplace",
   "metadata": {},
   "outputs": [],
   "source": [
    "import tensorflow as tf\n",
    "import pandas as pd\n",
    "from sklearn.preprocessing import StandardScaler, OneHotEncoder\n",
    "from sklearn.model_selection import train_test_split\n"
   ]
  },
  {
   "cell_type": "code",
   "execution_count": 2,
   "id": "reserved-suggestion",
   "metadata": {
    "tags": []
   },
   "outputs": [
    {
     "data": {
      "text/html": [
       "<div>\n",
       "<style scoped>\n",
       "    .dataframe tbody tr th:only-of-type {\n",
       "        vertical-align: middle;\n",
       "    }\n",
       "\n",
       "    .dataframe tbody tr th {\n",
       "        vertical-align: top;\n",
       "    }\n",
       "\n",
       "    .dataframe thead th {\n",
       "        text-align: right;\n",
       "    }\n",
       "</style>\n",
       "<table border=\"1\" class=\"dataframe\">\n",
       "  <thead>\n",
       "    <tr style=\"text-align: right;\">\n",
       "      <th></th>\n",
       "      <th>Year</th>\n",
       "      <th>Quarter</th>\n",
       "      <th>Births</th>\n",
       "    </tr>\n",
       "  </thead>\n",
       "  <tbody>\n",
       "    <tr>\n",
       "      <th>count</th>\n",
       "      <td>52.000000</td>\n",
       "      <td>52.000000</td>\n",
       "      <td>52.000000</td>\n",
       "    </tr>\n",
       "    <tr>\n",
       "      <th>mean</th>\n",
       "      <td>2006.000000</td>\n",
       "      <td>2.500000</td>\n",
       "      <td>14903.423077</td>\n",
       "    </tr>\n",
       "    <tr>\n",
       "      <th>std</th>\n",
       "      <td>3.778162</td>\n",
       "      <td>1.128942</td>\n",
       "      <td>943.667280</td>\n",
       "    </tr>\n",
       "    <tr>\n",
       "      <th>min</th>\n",
       "      <td>2000.000000</td>\n",
       "      <td>1.000000</td>\n",
       "      <td>13151.000000</td>\n",
       "    </tr>\n",
       "    <tr>\n",
       "      <th>25%</th>\n",
       "      <td>2003.000000</td>\n",
       "      <td>1.750000</td>\n",
       "      <td>14208.250000</td>\n",
       "    </tr>\n",
       "    <tr>\n",
       "      <th>50%</th>\n",
       "      <td>2006.000000</td>\n",
       "      <td>2.500000</td>\n",
       "      <td>14881.000000</td>\n",
       "    </tr>\n",
       "    <tr>\n",
       "      <th>75%</th>\n",
       "      <td>2009.000000</td>\n",
       "      <td>3.250000</td>\n",
       "      <td>15646.500000</td>\n",
       "    </tr>\n",
       "    <tr>\n",
       "      <th>max</th>\n",
       "      <td>2012.000000</td>\n",
       "      <td>4.000000</td>\n",
       "      <td>16968.000000</td>\n",
       "    </tr>\n",
       "  </tbody>\n",
       "</table>\n",
       "</div>"
      ],
      "text/plain": [
       "              Year    Quarter        Births\n",
       "count    52.000000  52.000000     52.000000\n",
       "mean   2006.000000   2.500000  14903.423077\n",
       "std       3.778162   1.128942    943.667280\n",
       "min    2000.000000   1.000000  13151.000000\n",
       "25%    2003.000000   1.750000  14208.250000\n",
       "50%    2006.000000   2.500000  14881.000000\n",
       "75%    2009.000000   3.250000  15646.500000\n",
       "max    2012.000000   4.000000  16968.000000"
      ]
     },
     "execution_count": 2,
     "metadata": {},
     "output_type": "execute_result"
    }
   ],
   "source": [
    "df = pd.read_csv('dataset.csv')\n",
    "df.describe()"
   ]
  },
  {
   "cell_type": "code",
   "execution_count": 3,
   "id": "decreased-education",
   "metadata": {},
   "outputs": [
    {
     "data": {
      "text/plain": [
       "Index(['Year', 'Quarter', 'Births'], dtype='object')"
      ]
     },
     "execution_count": 3,
     "metadata": {},
     "output_type": "execute_result"
    }
   ],
   "source": [
    "df.columns"
   ]
  },
  {
   "cell_type": "code",
   "execution_count": null,
   "id": "advanced-newark",
   "metadata": {},
   "outputs": [],
   "source": [
    "features = df[['Time','Premise','Age','Gender']].values\n",
    "label = df[['Crime Code']].values.reshape(-1,1)\n",
    "label"
   ]
  },
  {
   "cell_type": "code",
   "execution_count": null,
   "id": "crazy-pottery",
   "metadata": {
    "tags": []
   },
   "outputs": [],
   "source": [
    "label.shape"
   ]
  },
  {
   "cell_type": "code",
   "execution_count": null,
   "id": "exposed-rental",
   "metadata": {},
   "outputs": [],
   "source": [
    "x_train, x_test, y_train, y_test = train_test_split(features, label, test_size = 0.2)"
   ]
  },
  {
   "cell_type": "code",
   "execution_count": null,
   "id": "verified-martin",
   "metadata": {},
   "outputs": [],
   "source": [
    "y_test.shape"
   ]
  },
  {
   "cell_type": "code",
   "execution_count": null,
   "id": "finite-military",
   "metadata": {},
   "outputs": [],
   "source": [
    "scaler = StandardScaler()\n",
    "scaler.fit(x_train)\n",
    "x_train = scaler.transform(x_train)\n",
    "x_test = scaler.transform(x_test)"
   ]
  },
  {
   "cell_type": "code",
   "execution_count": null,
   "id": "spatial-award",
   "metadata": {},
   "outputs": [],
   "source": [
    "features[:, [0]].mean()"
   ]
  },
  {
   "cell_type": "code",
   "execution_count": null,
   "id": "understood-specification",
   "metadata": {},
   "outputs": [],
   "source": [
    "x_train[:, [0]].mean()"
   ]
  },
  {
   "cell_type": "code",
   "execution_count": null,
   "id": "comparable-andorra",
   "metadata": {},
   "outputs": [],
   "source": [
    "x_train[0]"
   ]
  },
  {
   "cell_type": "code",
   "execution_count": null,
   "id": "powered-breast",
   "metadata": {},
   "outputs": [],
   "source": [
    "#Constant\n",
    "#PlaceHolder\n",
    "input_tensor = tf.placeholder(tf.float32, name=\"input\")\n",
    "label_tensor = tf.placeholder(tf.float32, name=\"output\")\n",
    "\n",
    "#Variable\n",
    "parameters = {\n",
    "    'W1' : tf.Variable(\n",
    "        tf.random.normal((4,64)),\n",
    "        dtype=tf.float32\n",
    "    ),\n",
    "    'B1' : tf.Variable(\n",
    "        tf.random.normal((1,64)),\n",
    "        dtype=tf.float32\n",
    "    ),\n",
    "    'W2' : tf.Variable(\n",
    "        tf.random.normal((64,64)),\n",
    "        dtype=tf.float32\n",
    "    ),\n",
    "    'B2' : tf.Variable(\n",
    "        tf.random.normal((1,64)),\n",
    "        dtype=tf.float32\n",
    "    ),\n",
    "    'W3' : tf.Variable(\n",
    "        tf.random.normal((64,3)),\n",
    "        dtype=tf.float32\n",
    "    ),\n",
    "    'B3' : tf.Variable(\n",
    "        tf.random.normal((1,3)),\n",
    "        dtype=tf.float32\n",
    "    ),\n",
    "}\n"
   ]
  },
  {
   "cell_type": "code",
   "execution_count": null,
   "id": "grand-polish",
   "metadata": {},
   "outputs": [],
   "source": [
    "def forward(x):\n",
    "    z1 = tf.matmul(x, parameters['W1']) + parameters['B1']\n",
    "    a1 = tf.nn.sigmoid(z1)\n",
    "    \n",
    "    z2 = tf.matmul(a1, parameters['W2']) + parameters['B2']\n",
    "    a2 = tf.nn.sigmoid(z2)\n",
    "    \n",
    "    z3 = tf.matmul(a2, parameters['W3']) + parameters['B3']\n",
    "    a3 = tf.nn.sigmoid(z3)\n",
    "    \n",
    "    return a3"
   ]
  },
  {
   "cell_type": "code",
   "execution_count": null,
   "id": "retained-cambodia",
   "metadata": {},
   "outputs": [],
   "source": [
    "def forward_pass(input_tensor,params,n_layer=3):\n",
    "    a = input_tensor\n",
    "    for i in range(n_layer):\n",
    "        W = params[f'W{i+1}']\n",
    "        B = params[f'B{i+1}']\n",
    "\n",
    "        z = tf.matmul(a,W) + B #update weight\n",
    "        if i == n_layer-1:\n",
    "            a = tf.nn.sigmoid(z)\n",
    "        else:\n",
    "            a = tf.nn.sigmoid(z)\n",
    "\n",
    "    return a"
   ]
  },
  {
   "cell_type": "code",
   "execution_count": null,
   "id": "synthetic-angle",
   "metadata": {},
   "outputs": [],
   "source": [
    "with tf.Session() as sess:\n",
    "    logits_tensor = forward_pass(input_tensor, parameters)\n",
    "    loss_tensor = tf.losses.mean_squared_error(label_tensor, logits_tensor)\n",
    "\n",
    "    true_preds_tensor = tf.equal(tf.argmax(logits_tensor, axis=1), tf.argmax(label_tensor, axis=1))\n",
    "    acc_tensor = tf.reduce_mean(tf.cast(true_preds_tensor, tf.float32))\n",
    "\n",
    "    optimizer = tf.train.GradientDescentOptimizer().minimize(loss_tensor)\n",
    "    sess.run(tf.global_variables_initializer())\n",
    "    for i in range(epochs):\n",
    "        sess.run(\n",
    "            optimiser,\n",
    "            feed_dict = {\n",
    "                input_tensor: x_train,\n",
    "                label_tensor: y_train\n",
    "            }\n",
    "        )\n",
    "\n",
    "        #Validasi\n",
    "        if i%10 == 0:\n",
    "            loss,acc = evaluate_accuracy(y_test,sess.run(\n",
    "            logits_tensor,\n",
    "            feed_dict = {\n",
    "                input_tensor: x_test,\n",
    "                label_tensor: y_test\n",
    "            }\n",
    "        ))\n",
    "        if i % 100 == 0:\n",
    "            print(f'EPOCH: {i} | ACCURACY: {acc*100 : .2f}% |ERROR: {loss} ')\n",
    "      \n",
    "  #print(f'ACCURACY: {acc*100 : .2f}%')"
   ]
  },
  {
   "cell_type": "code",
   "execution_count": null,
   "id": "reported-liverpool",
   "metadata": {},
   "outputs": [],
   "source": []
  }
 ],
 "metadata": {
  "kernelspec": {
   "display_name": "Python 3",
   "language": "python",
   "name": "python3"
  },
  "language_info": {
   "codemirror_mode": {
    "name": "ipython",
    "version": 3
   },
   "file_extension": ".py",
   "mimetype": "text/x-python",
   "name": "python",
   "nbconvert_exporter": "python",
   "pygments_lexer": "ipython3",
   "version": "3.7.9"
  }
 },
 "nbformat": 4,
 "nbformat_minor": 5
}
