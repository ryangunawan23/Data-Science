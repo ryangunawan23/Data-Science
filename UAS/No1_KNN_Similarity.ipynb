{
 "cells": [
  {
   "cell_type": "markdown",
   "id": "million-ending",
   "metadata": {},
   "source": [
    "# No 1 - Euclidean Distance\n",
    "Ryan Razaan Gunawan"
   ]
  },
  {
   "cell_type": "code",
   "execution_count": 1,
   "id": "lucky-fitness",
   "metadata": {},
   "outputs": [],
   "source": [
    "import numpy as np\n",
    "import pandas as pd\n",
    "from math import sqrt"
   ]
  },
  {
   "cell_type": "code",
   "execution_count": 2,
   "id": "regulation-louis",
   "metadata": {},
   "outputs": [],
   "source": [
    "# calculate the Euclidean distance between two vectors\n",
    "def euclidean_distance(row1, row2):\n",
    "\tdistance = 0.0\n",
    "\tfor i in range(len(row1)-1):\n",
    "\t\tdistance += (row1[i] - row2[i])**2\n",
    "\treturn sqrt(distance)"
   ]
  },
  {
   "cell_type": "code",
   "execution_count": 9,
   "id": "aggregate-gardening",
   "metadata": {},
   "outputs": [],
   "source": [
    "def get_neighbors(train, test_row, num_neighbors):\n",
    "\tdistances = list()\n",
    "\tfor train_row in train:\n",
    "\t\tdist = euclidean_distance(test_row, train_row)\n",
    "\t\tdistances.append((train_row, dist))\n",
    "\tdistances.sort(key=lambda tup: tup[1])\n",
    "\tneighbors = list()\n",
    "\tfor i in range(num_neighbors):\n",
    "\t\tneighbors.append(distances[i][0])\n",
    "\treturn neighbors"
   ]
  },
  {
   "cell_type": "code",
   "execution_count": 10,
   "id": "filled-despite",
   "metadata": {},
   "outputs": [],
   "source": [
    "def predict_classification(train, test_row, num_neighbors):\n",
    "\tneighbors = get_neighbors(train, test_row, num_neighbors)\n",
    "\toutput_values = [row[-1] for row in neighbors]\n",
    "\tprediction = max(set(output_values), key=output_values.count)\n",
    "\treturn prediction"
   ]
  },
  {
   "cell_type": "code",
   "execution_count": 3,
   "id": "corresponding-northern",
   "metadata": {},
   "outputs": [],
   "source": [
    "dataset  = {\n",
    "        'd1'  : [1.1, 1.4, 1, 20],\n",
    "        'd2'  : [100, 1.4, 1, 20],\n",
    "        'd3'  : [1.2, 1.4, 1, 20],\n",
    "        'd4'  : [1.6, 1.5, 1, 20],\n",
    "        'd5'  : [1.6, 100, 1, 20],\n",
    "        'd6'  : [1.1, 1.4, 1, 20],\n",
    "        'd7'  : [1.1, 1.4, 1, 20],\n",
    "        'd8'  : [1.2, 1.2, 100, 20],\n",
    "        'd9'  : [1, 1, 2, 20],\n",
    "        'd10' : [1, 1, 2, 20]\n",
    "        }"
   ]
  },
  {
   "cell_type": "code",
   "execution_count": 4,
   "id": "english-party",
   "metadata": {},
   "outputs": [
    {
     "data": {
      "text/html": [
       "<div>\n",
       "<style scoped>\n",
       "    .dataframe tbody tr th:only-of-type {\n",
       "        vertical-align: middle;\n",
       "    }\n",
       "\n",
       "    .dataframe tbody tr th {\n",
       "        vertical-align: top;\n",
       "    }\n",
       "\n",
       "    .dataframe thead th {\n",
       "        text-align: right;\n",
       "    }\n",
       "</style>\n",
       "<table border=\"1\" class=\"dataframe\">\n",
       "  <thead>\n",
       "    <tr style=\"text-align: right;\">\n",
       "      <th></th>\n",
       "      <th>d1</th>\n",
       "      <th>d2</th>\n",
       "      <th>d3</th>\n",
       "      <th>d4</th>\n",
       "      <th>d5</th>\n",
       "      <th>d6</th>\n",
       "      <th>d7</th>\n",
       "      <th>d8</th>\n",
       "      <th>d9</th>\n",
       "      <th>d10</th>\n",
       "    </tr>\n",
       "  </thead>\n",
       "  <tbody>\n",
       "    <tr>\n",
       "      <th>0</th>\n",
       "      <td>1.1</td>\n",
       "      <td>100.0</td>\n",
       "      <td>1.2</td>\n",
       "      <td>1.6</td>\n",
       "      <td>1.6</td>\n",
       "      <td>1.1</td>\n",
       "      <td>1.1</td>\n",
       "      <td>1.2</td>\n",
       "      <td>1</td>\n",
       "      <td>1</td>\n",
       "    </tr>\n",
       "    <tr>\n",
       "      <th>1</th>\n",
       "      <td>1.4</td>\n",
       "      <td>1.4</td>\n",
       "      <td>1.4</td>\n",
       "      <td>1.5</td>\n",
       "      <td>100.0</td>\n",
       "      <td>1.4</td>\n",
       "      <td>1.4</td>\n",
       "      <td>1.2</td>\n",
       "      <td>1</td>\n",
       "      <td>1</td>\n",
       "    </tr>\n",
       "    <tr>\n",
       "      <th>2</th>\n",
       "      <td>1.0</td>\n",
       "      <td>1.0</td>\n",
       "      <td>1.0</td>\n",
       "      <td>1.0</td>\n",
       "      <td>1.0</td>\n",
       "      <td>1.0</td>\n",
       "      <td>1.0</td>\n",
       "      <td>100.0</td>\n",
       "      <td>2</td>\n",
       "      <td>2</td>\n",
       "    </tr>\n",
       "    <tr>\n",
       "      <th>3</th>\n",
       "      <td>20.0</td>\n",
       "      <td>20.0</td>\n",
       "      <td>20.0</td>\n",
       "      <td>20.0</td>\n",
       "      <td>20.0</td>\n",
       "      <td>20.0</td>\n",
       "      <td>20.0</td>\n",
       "      <td>20.0</td>\n",
       "      <td>20</td>\n",
       "      <td>20</td>\n",
       "    </tr>\n",
       "  </tbody>\n",
       "</table>\n",
       "</div>"
      ],
      "text/plain": [
       "     d1     d2    d3    d4     d5    d6    d7     d8  d9  d10\n",
       "0   1.1  100.0   1.2   1.6    1.6   1.1   1.1    1.2   1    1\n",
       "1   1.4    1.4   1.4   1.5  100.0   1.4   1.4    1.2   1    1\n",
       "2   1.0    1.0   1.0   1.0    1.0   1.0   1.0  100.0   2    2\n",
       "3  20.0   20.0  20.0  20.0   20.0  20.0  20.0   20.0  20   20"
      ]
     },
     "execution_count": 4,
     "metadata": {},
     "output_type": "execute_result"
    }
   ],
   "source": [
    "dataset = pd.DataFrame(dataset)\n",
    "dataset"
   ]
  },
  {
   "cell_type": "code",
   "execution_count": 5,
   "id": "falling-transition",
   "metadata": {},
   "outputs": [],
   "source": [
    "obj_query = np.array([1,1,1,1,1,1,1,1,1,1]).reshape(-1,1)"
   ]
  },
  {
   "cell_type": "code",
   "execution_count": 6,
   "id": "common-valley",
   "metadata": {},
   "outputs": [
    {
     "data": {
      "text/plain": [
       "array([[-0.58542978,  1.70111325, -0.57726317, -0.54821361, -0.71268926,\n",
       "        -0.58542978, -0.58542978, -0.72064885, -0.61780206, -0.61780206],\n",
       "       [-0.54864886, -0.71574217, -0.55269878, -0.56060262,  1.70137693,\n",
       "        -0.54864886, -0.54864886, -0.72064885, -0.61780206, -0.61780206],\n",
       "       [-0.59769009, -0.72554686, -0.60182756, -0.62254766, -0.72740917,\n",
       "        -0.59769009, -0.59769009,  1.70112347, -0.49424165, -0.49424165],\n",
       "       [ 1.73176873, -0.25982421,  1.7317895 ,  1.7313639 , -0.26127851,\n",
       "         1.73176873,  1.73176873, -0.25982577,  1.72984578,  1.72984578]])"
      ]
     },
     "execution_count": 6,
     "metadata": {},
     "output_type": "execute_result"
    }
   ],
   "source": [
    "from sklearn.preprocessing import StandardScaler\n",
    "scaler = StandardScaler()\n",
    "scaled_data = scaler.fit_transform(dataset)\n",
    "obj_query = scaler.fit_transform(obj_query)\n",
    "scaled_data"
   ]
  },
  {
   "cell_type": "code",
   "execution_count": 7,
   "id": "green-university",
   "metadata": {},
   "outputs": [
    {
     "name": "stdout",
     "output_type": "stream",
     "text": [
      "Data ke- 1  | Distance :  2.4422697287062456\n",
      "Data ke- 2  | Distance :  2.414701308738931\n",
      "Data ke- 3  | Distance :  2.452570193547208\n",
      "Data ke- 4  | Distance :  4.264907455917822\n"
     ]
    }
   ],
   "source": [
    "for i in range (4):\n",
    "    distance = euclidean_distance(obj_query, scaled_data[i])\n",
    "    print(\"Data ke-\",i+1,\" | Distance : \", distance)"
   ]
  },
  {
   "cell_type": "markdown",
   "id": "minor-contributor",
   "metadata": {},
   "source": [
    "Berdasarkan rumus Euclidean Distance, Data yang paling similar/mirip dengan Object Query adalah Data ke-2."
   ]
  }
 ],
 "metadata": {
  "kernelspec": {
   "display_name": "Python 3",
   "language": "python",
   "name": "python3"
  },
  "language_info": {
   "codemirror_mode": {
    "name": "ipython",
    "version": 3
   },
   "file_extension": ".py",
   "mimetype": "text/x-python",
   "name": "python",
   "nbconvert_exporter": "python",
   "pygments_lexer": "ipython3",
   "version": "3.7.9"
  }
 },
 "nbformat": 4,
 "nbformat_minor": 5
}
