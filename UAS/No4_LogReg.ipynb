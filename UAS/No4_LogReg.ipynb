{
 "cells": [
  {
   "cell_type": "markdown",
   "id": "automotive-sphere",
   "metadata": {},
   "source": [
    "# No 4 - Logistic Regression\n",
    "Ryan Razaan Gunawan - 2301878290"
   ]
  },
  {
   "cell_type": "markdown",
   "id": "clean-blank",
   "metadata": {},
   "source": [
    "# Input Data"
   ]
  },
  {
   "cell_type": "code",
   "execution_count": 1,
   "id": "worthy-jersey",
   "metadata": {},
   "outputs": [],
   "source": [
    "import pandas as pd\n",
    "import numpy as np\n",
    "import matplotlib.pyplot as plt"
   ]
  },
  {
   "cell_type": "code",
   "execution_count": 2,
   "id": "previous-cleaner",
   "metadata": {},
   "outputs": [],
   "source": [
    "train_data = {'gmat':[780, 750, 690, 710, 680, 730, 690, 720, 740, 690, 610, 690, 710, 680, 770, 610, 580, 650, 540, 590, 620, 600, 550, 550, 570, 670, 660, 580, 650, 660, 640, 620, 660, 660, 680, 650, 670, 580, 590, 690],\n",
    "        'gpa':[4, 3.9, 3.3, 3.7, 3.9, 3.7, 2.3, 3.3, 3.3, 1.7, 2.7, 3.7, 3.7, 3.3, 3.3, 3, 2.7, 3.7, 2.7, 2.3, 3.3, 2, 2.3, 2.7, 3, 3.3, 3.7, 2.3, 3.7, 3.3, 3, 2.7, 4, 3.3, 3.3, 2.3, 2.7, 3.3, 1.7, 2.7],\n",
    "        'work_experience':[3, 4, 3, 5, 4, 6, 1, 4, 5, 1, 3, 5, 6, 4, 3, 1, 4, 6, 2, 3, 2, 1, 4, 1, 2, 6, 4, 2, 6, 5, 1, 2, 4, 6, 5, 1, 2, 1, 4, 5],\n",
    "        'admitted':[1, 1, 0, 1, 0, 1, 0, 1, 1, 0, 0, 1, 1, 0, 1, 0, 0, 1, 0, 0, 1, 0, 0, 0, 0, 1, 1, 0, 1, 1, 0, 0, 1, 1, 1, 0, 0, 0, 0, 1]}\n",
    "\n",
    "test_data ={'gmat':[590, 740, 680, 610, 710],\n",
    "            'gpa':[2, 3.7, 3.3, 2.3, 3],\n",
    "            'work_experience':[3, 4, 6, 1, 5]}"
   ]
  },
  {
   "cell_type": "code",
   "execution_count": 3,
   "id": "lonely-turtle",
   "metadata": {},
   "outputs": [
    {
     "data": {
      "text/html": [
       "<div>\n",
       "<style scoped>\n",
       "    .dataframe tbody tr th:only-of-type {\n",
       "        vertical-align: middle;\n",
       "    }\n",
       "\n",
       "    .dataframe tbody tr th {\n",
       "        vertical-align: top;\n",
       "    }\n",
       "\n",
       "    .dataframe thead th {\n",
       "        text-align: right;\n",
       "    }\n",
       "</style>\n",
       "<table border=\"1\" class=\"dataframe\">\n",
       "  <thead>\n",
       "    <tr style=\"text-align: right;\">\n",
       "      <th></th>\n",
       "      <th>gmat</th>\n",
       "      <th>gpa</th>\n",
       "      <th>work_experience</th>\n",
       "      <th>admitted</th>\n",
       "    </tr>\n",
       "  </thead>\n",
       "  <tbody>\n",
       "    <tr>\n",
       "      <th>count</th>\n",
       "      <td>40.000000</td>\n",
       "      <td>40.000000</td>\n",
       "      <td>40.000000</td>\n",
       "      <td>40.000000</td>\n",
       "    </tr>\n",
       "    <tr>\n",
       "      <th>mean</th>\n",
       "      <td>654.000000</td>\n",
       "      <td>3.070000</td>\n",
       "      <td>3.425000</td>\n",
       "      <td>0.475000</td>\n",
       "    </tr>\n",
       "    <tr>\n",
       "      <th>std</th>\n",
       "      <td>61.427464</td>\n",
       "      <td>0.626427</td>\n",
       "      <td>1.737778</td>\n",
       "      <td>0.505736</td>\n",
       "    </tr>\n",
       "    <tr>\n",
       "      <th>min</th>\n",
       "      <td>540.000000</td>\n",
       "      <td>1.700000</td>\n",
       "      <td>1.000000</td>\n",
       "      <td>0.000000</td>\n",
       "    </tr>\n",
       "    <tr>\n",
       "      <th>25%</th>\n",
       "      <td>607.500000</td>\n",
       "      <td>2.700000</td>\n",
       "      <td>2.000000</td>\n",
       "      <td>0.000000</td>\n",
       "    </tr>\n",
       "    <tr>\n",
       "      <th>50%</th>\n",
       "      <td>660.000000</td>\n",
       "      <td>3.300000</td>\n",
       "      <td>4.000000</td>\n",
       "      <td>0.000000</td>\n",
       "    </tr>\n",
       "    <tr>\n",
       "      <th>75%</th>\n",
       "      <td>690.000000</td>\n",
       "      <td>3.700000</td>\n",
       "      <td>5.000000</td>\n",
       "      <td>1.000000</td>\n",
       "    </tr>\n",
       "    <tr>\n",
       "      <th>max</th>\n",
       "      <td>780.000000</td>\n",
       "      <td>4.000000</td>\n",
       "      <td>6.000000</td>\n",
       "      <td>1.000000</td>\n",
       "    </tr>\n",
       "  </tbody>\n",
       "</table>\n",
       "</div>"
      ],
      "text/plain": [
       "             gmat        gpa  work_experience   admitted\n",
       "count   40.000000  40.000000        40.000000  40.000000\n",
       "mean   654.000000   3.070000         3.425000   0.475000\n",
       "std     61.427464   0.626427         1.737778   0.505736\n",
       "min    540.000000   1.700000         1.000000   0.000000\n",
       "25%    607.500000   2.700000         2.000000   0.000000\n",
       "50%    660.000000   3.300000         4.000000   0.000000\n",
       "75%    690.000000   3.700000         5.000000   1.000000\n",
       "max    780.000000   4.000000         6.000000   1.000000"
      ]
     },
     "execution_count": 3,
     "metadata": {},
     "output_type": "execute_result"
    }
   ],
   "source": [
    "train_dataset = pd.DataFrame(train_data)\n",
    "test_dataset = pd.DataFrame(test_data)\n",
    "\n",
    "train_dataset.describe()"
   ]
  },
  {
   "cell_type": "code",
   "execution_count": 4,
   "id": "devoted-import",
   "metadata": {},
   "outputs": [
    {
     "data": {
      "text/html": [
       "<div>\n",
       "<style scoped>\n",
       "    .dataframe tbody tr th:only-of-type {\n",
       "        vertical-align: middle;\n",
       "    }\n",
       "\n",
       "    .dataframe tbody tr th {\n",
       "        vertical-align: top;\n",
       "    }\n",
       "\n",
       "    .dataframe thead th {\n",
       "        text-align: right;\n",
       "    }\n",
       "</style>\n",
       "<table border=\"1\" class=\"dataframe\">\n",
       "  <thead>\n",
       "    <tr style=\"text-align: right;\">\n",
       "      <th></th>\n",
       "      <th>gmat</th>\n",
       "      <th>gpa</th>\n",
       "      <th>work_experience</th>\n",
       "    </tr>\n",
       "  </thead>\n",
       "  <tbody>\n",
       "    <tr>\n",
       "      <th>count</th>\n",
       "      <td>5.000000</td>\n",
       "      <td>5.00000</td>\n",
       "      <td>5.000000</td>\n",
       "    </tr>\n",
       "    <tr>\n",
       "      <th>mean</th>\n",
       "      <td>666.000000</td>\n",
       "      <td>2.86000</td>\n",
       "      <td>3.800000</td>\n",
       "    </tr>\n",
       "    <tr>\n",
       "      <th>std</th>\n",
       "      <td>64.265076</td>\n",
       "      <td>0.70214</td>\n",
       "      <td>1.923538</td>\n",
       "    </tr>\n",
       "    <tr>\n",
       "      <th>min</th>\n",
       "      <td>590.000000</td>\n",
       "      <td>2.00000</td>\n",
       "      <td>1.000000</td>\n",
       "    </tr>\n",
       "    <tr>\n",
       "      <th>25%</th>\n",
       "      <td>610.000000</td>\n",
       "      <td>2.30000</td>\n",
       "      <td>3.000000</td>\n",
       "    </tr>\n",
       "    <tr>\n",
       "      <th>50%</th>\n",
       "      <td>680.000000</td>\n",
       "      <td>3.00000</td>\n",
       "      <td>4.000000</td>\n",
       "    </tr>\n",
       "    <tr>\n",
       "      <th>75%</th>\n",
       "      <td>710.000000</td>\n",
       "      <td>3.30000</td>\n",
       "      <td>5.000000</td>\n",
       "    </tr>\n",
       "    <tr>\n",
       "      <th>max</th>\n",
       "      <td>740.000000</td>\n",
       "      <td>3.70000</td>\n",
       "      <td>6.000000</td>\n",
       "    </tr>\n",
       "  </tbody>\n",
       "</table>\n",
       "</div>"
      ],
      "text/plain": [
       "             gmat      gpa  work_experience\n",
       "count    5.000000  5.00000         5.000000\n",
       "mean   666.000000  2.86000         3.800000\n",
       "std     64.265076  0.70214         1.923538\n",
       "min    590.000000  2.00000         1.000000\n",
       "25%    610.000000  2.30000         3.000000\n",
       "50%    680.000000  3.00000         4.000000\n",
       "75%    710.000000  3.30000         5.000000\n",
       "max    740.000000  3.70000         6.000000"
      ]
     },
     "execution_count": 4,
     "metadata": {},
     "output_type": "execute_result"
    }
   ],
   "source": [
    "test_dataset.describe()"
   ]
  },
  {
   "cell_type": "code",
   "execution_count": 5,
   "id": "respiratory-correlation",
   "metadata": {},
   "outputs": [],
   "source": [
    "# Checking for missing values\n",
    "def visualize_null(dataset):\n",
    "    column_name = list(dataset.keys())\n",
    "    values      = list(dataset.isnull().sum())\n",
    "\n",
    "    fig         = plt.figure(figsize = (20, 5))\n",
    "\n",
    "    # creating the bar plot\n",
    "    plt.bar(column_name, values, color ='maroon', width = 0.4)\n",
    "\n",
    "    plt.ylabel(\"Missing Values\")\n",
    "    plt.title(\"Column Missing Values\")\n",
    "    plt.show()"
   ]
  },
  {
   "cell_type": "code",
   "execution_count": 6,
   "id": "breeding-antarctica",
   "metadata": {},
   "outputs": [
    {
     "data": {
      "image/png": "[encoded data removed]",
      "text/plain": [
       "<Figure size 1440x360 with 1 Axes>"
      ]
     },
     "metadata": {
      "needs_background": "light"
     },
     "output_type": "display_data"
    }
   ],
   "source": [
    "visualize_null(train_dataset)"
   ]
  },
  {
   "cell_type": "code",
   "execution_count": 7,
   "id": "widespread-brazil",
   "metadata": {},
   "outputs": [
    {
     "data": {
      "image/png": "[encoded data removed]",
      "text/plain": [
       "<Figure size 1440x360 with 1 Axes>"
      ]
     },
     "metadata": {
      "needs_background": "light"
     },
     "output_type": "display_data"
    }
   ],
   "source": [
    "visualize_null(test_dataset)"
   ]
  },
  {
   "cell_type": "markdown",
   "id": "terminal-header",
   "metadata": {},
   "source": [
    "Setelah melakukan visualisasi Null value, terlihat kedua train dan test dataset sudah bersih dari Null value. Sehingga tidak perlu melakukan imputation."
   ]
  },
  {
   "cell_type": "markdown",
   "id": "robust-ghana",
   "metadata": {},
   "source": [
    "# Pembersihan Outlier dan Normalisasi Dataset"
   ]
  },
  {
   "cell_type": "code",
   "execution_count": 8,
   "id": "architectural-supplement",
   "metadata": {},
   "outputs": [
    {
     "data": {
      "image/png": "[encoded data removed]",
      "text/plain": [
       "<Figure size 432x288 with 1 Axes>"
      ]
     },
     "metadata": {
      "needs_background": "light"
     },
     "output_type": "display_data"
    }
   ],
   "source": [
    "# Checking for outliers\n",
    "import seaborn as sns\n",
    "outliers = sns.boxplot(data=train_dataset, orient=\"h\", palette=\"Set2\")"
   ]
  },
  {
   "cell_type": "markdown",
   "id": "reflected-hacker",
   "metadata": {},
   "source": [
    "Terlihat dari graph diatas, secara visual tidak terdapat outlier pada train_dataset, sehingga tidak perlu dilakukan handling."
   ]
  },
  {
   "cell_type": "code",
   "execution_count": 9,
   "id": "documentary-entrepreneur",
   "metadata": {},
   "outputs": [
    {
     "data": {
      "text/html": [
       "<div>\n",
       "<style scoped>\n",
       "    .dataframe tbody tr th:only-of-type {\n",
       "        vertical-align: middle;\n",
       "    }\n",
       "\n",
       "    .dataframe tbody tr th {\n",
       "        vertical-align: top;\n",
       "    }\n",
       "\n",
       "    .dataframe thead th {\n",
       "        text-align: right;\n",
       "    }\n",
       "</style>\n",
       "<table border=\"1\" class=\"dataframe\">\n",
       "  <thead>\n",
       "    <tr style=\"text-align: right;\">\n",
       "      <th></th>\n",
       "      <th>gmat</th>\n",
       "      <th>gpa</th>\n",
       "      <th>work_experience</th>\n",
       "      <th>admitted</th>\n",
       "    </tr>\n",
       "  </thead>\n",
       "  <tbody>\n",
       "    <tr>\n",
       "      <th>0</th>\n",
       "      <td>1.000000</td>\n",
       "      <td>1.000000</td>\n",
       "      <td>0.4</td>\n",
       "      <td>1.0</td>\n",
       "    </tr>\n",
       "    <tr>\n",
       "      <th>1</th>\n",
       "      <td>0.875000</td>\n",
       "      <td>0.956522</td>\n",
       "      <td>0.6</td>\n",
       "      <td>1.0</td>\n",
       "    </tr>\n",
       "    <tr>\n",
       "      <th>2</th>\n",
       "      <td>0.625000</td>\n",
       "      <td>0.695652</td>\n",
       "      <td>0.4</td>\n",
       "      <td>0.0</td>\n",
       "    </tr>\n",
       "    <tr>\n",
       "      <th>3</th>\n",
       "      <td>0.708333</td>\n",
       "      <td>0.869565</td>\n",
       "      <td>0.8</td>\n",
       "      <td>1.0</td>\n",
       "    </tr>\n",
       "    <tr>\n",
       "      <th>4</th>\n",
       "      <td>0.583333</td>\n",
       "      <td>0.956522</td>\n",
       "      <td>0.6</td>\n",
       "      <td>0.0</td>\n",
       "    </tr>\n",
       "  </tbody>\n",
       "</table>\n",
       "</div>"
      ],
      "text/plain": [
       "       gmat       gpa  work_experience  admitted\n",
       "0  1.000000  1.000000              0.4       1.0\n",
       "1  0.875000  0.956522              0.6       1.0\n",
       "2  0.625000  0.695652              0.4       0.0\n",
       "3  0.708333  0.869565              0.8       1.0\n",
       "4  0.583333  0.956522              0.6       0.0"
      ]
     },
     "execution_count": 9,
     "metadata": {},
     "output_type": "execute_result"
    }
   ],
   "source": [
    "#Normalizing dataset\n",
    "from sklearn.preprocessing import MinMaxScaler\n",
    "\n",
    "keys = train_dataset.keys()\n",
    "keys1 = test_dataset.keys()\n",
    "\n",
    "scaler = MinMaxScaler()\n",
    "scaler.fit(train_dataset)\n",
    "\n",
    "train_dataset = scaler.transform(train_dataset)\n",
    "train_dataset = pd.DataFrame(train_dataset, columns = keys)\n",
    "\n",
    "scaler1 = MinMaxScaler()\n",
    "scaler1.fit(test_dataset)\n",
    "\n",
    "test_dataset = scaler1.transform(test_dataset)\n",
    "test_dataset = pd.DataFrame(test_dataset, columns = keys1)\n",
    "\n",
    "train_dataset.head()"
   ]
  },
  {
   "cell_type": "markdown",
   "id": "rough-stable",
   "metadata": {},
   "source": [
    "# Final Data Preparations"
   ]
  },
  {
   "cell_type": "code",
   "execution_count": 10,
   "id": "sudden-comparison",
   "metadata": {},
   "outputs": [],
   "source": [
    "features = train_dataset.drop(\"admitted\", axis=1)\n",
    "labels = train_dataset['admitted']"
   ]
  },
  {
   "cell_type": "code",
   "execution_count": 11,
   "id": "fixed-darkness",
   "metadata": {},
   "outputs": [],
   "source": [
    "from sklearn.model_selection import train_test_split\n",
    "x_train, x_val, y_train, y_val = train_test_split(features, labels, test_size = 0.2, random_state = 0)\n",
    "\n",
    "x_train = x_train.values\n",
    "y_train = y_train.values\n",
    "x_val = x_val.values\n",
    "y_val = y_val.values"
   ]
  },
  {
   "cell_type": "code",
   "execution_count": 12,
   "id": "vanilla-glory",
   "metadata": {},
   "outputs": [
    {
     "name": "stdout",
     "output_type": "stream",
     "text": [
      "(3, 32)\n",
      "(3, 8)\n",
      "(1, 32)\n",
      "(1, 8)\n"
     ]
    }
   ],
   "source": [
    "x_train  = x_train.T\n",
    "x_val  = x_val.T\n",
    "\n",
    "y_train  = y_train.reshape(1, x_train.shape[1])\n",
    "y_val  = y_val.reshape(1, x_val.shape[1])\n",
    "\n",
    "print(x_train.shape)\n",
    "print(x_val.shape)\n",
    "print(y_train.shape)\n",
    "print(y_val.shape)"
   ]
  },
  {
   "cell_type": "markdown",
   "id": "fifty-franchise",
   "metadata": {},
   "source": [
    "# Logistic Regression"
   ]
  },
  {
   "cell_type": "code",
   "execution_count": 13,
   "id": "annual-boring",
   "metadata": {},
   "outputs": [],
   "source": [
    "def sigmoid(Z):\n",
    "    return 1 / (1 + np.exp(-Z))"
   ]
  },
  {
   "cell_type": "code",
   "execution_count": 14,
   "id": "medium-imperial",
   "metadata": {},
   "outputs": [],
   "source": [
    "def model(X, Y, lr, epoch):\n",
    "    m = X.shape[1]\n",
    "    f = X.shape[0]\n",
    "    \n",
    "    W = np.zeros((f,1))\n",
    "    B = 0\n",
    "    \n",
    "    cost_list = []\n",
    "    \n",
    "    for i in range(epoch):\n",
    "        \n",
    "        Z = np.dot(W.T, X) + B\n",
    "        A = sigmoid(Z)\n",
    "        \n",
    "        # cost function\n",
    "        cost = -(1/m)*np.sum( Y*np.log(A) + (1-Y)*np.log(1-A))\n",
    "        \n",
    "        # Gradient Descent\n",
    "        dW = (1/m)*np.dot(A-Y, X.T)\n",
    "        dB = (1/m)*np.sum(A - Y)\n",
    "        \n",
    "        W = W - lr*dW.T\n",
    "        B = B - lr*dB\n",
    "        \n",
    "        # Keeping track of our cost function value\n",
    "        cost_list.append(cost)\n",
    "        \n",
    "        if(i%(epoch/10) == 0):\n",
    "            print(\"epoch : \",i,\"  |  cost : \",cost)\n",
    "        \n",
    "    return W, B, cost_list"
   ]
  },
  {
   "cell_type": "code",
   "execution_count": 15,
   "id": "enclosed-rwanda",
   "metadata": {},
   "outputs": [
    {
     "name": "stdout",
     "output_type": "stream",
     "text": [
      "epoch :  0   |  cost :  0.6931471805599453\n",
      "epoch :  1000   |  cost :  0.2926858890946563\n",
      "epoch :  2000   |  cost :  0.21157362089003526\n",
      "epoch :  3000   |  cost :  0.17771428906680614\n",
      "epoch :  4000   |  cost :  0.15889333240860493\n",
      "epoch :  5000   |  cost :  0.14673526953238408\n",
      "epoch :  6000   |  cost :  0.13812111642290115\n",
      "epoch :  7000   |  cost :  0.1316251197063133\n",
      "epoch :  8000   |  cost :  0.12650226406912413\n",
      "epoch :  9000   |  cost :  0.12232457687515934\n"
     ]
    }
   ],
   "source": [
    "epoch = 10000\n",
    "learning_rate = 0.05\n",
    "W, B, cost_list = model(x_train, y_train, lr = learning_rate, epoch = epoch)"
   ]
  },
  {
   "cell_type": "code",
   "execution_count": 27,
   "id": "interracial-filter",
   "metadata": {},
   "outputs": [
    {
     "data": {
      "image/png": "[encoded data removed]",
      "text/plain": [
       "<Figure size 432x288 with 1 Axes>"
      ]
     },
     "metadata": {
      "needs_background": "light"
     },
     "output_type": "display_data"
    }
   ],
   "source": [
    "plt.plot(np.arange(epoch), cost_list)\n",
    "plt.xlabel('Epochs')\n",
    "plt.ylabel('Cost')\n",
    "plt.show()"
   ]
  },
  {
   "cell_type": "markdown",
   "id": "ancient-position",
   "metadata": {},
   "source": [
    "# Find label for test dataset"
   ]
  },
  {
   "cell_type": "code",
   "execution_count": 17,
   "id": "defensive-marks",
   "metadata": {},
   "outputs": [],
   "source": [
    "def findLabel(X, W, B):\n",
    "    Z = np.dot(W.T, X) + B\n",
    "    label = sigmoid(Z)\n",
    "    \n",
    "    label = label > 0.5\n",
    "    \n",
    "    label = label.astype(int)\n",
    "    \n",
    "    return label"
   ]
  },
  {
   "cell_type": "code",
   "execution_count": 18,
   "id": "growing-viewer",
   "metadata": {},
   "outputs": [
    {
     "data": {
      "text/html": [
       "<div>\n",
       "<style scoped>\n",
       "    .dataframe tbody tr th:only-of-type {\n",
       "        vertical-align: middle;\n",
       "    }\n",
       "\n",
       "    .dataframe tbody tr th {\n",
       "        vertical-align: top;\n",
       "    }\n",
       "\n",
       "    .dataframe thead th {\n",
       "        text-align: right;\n",
       "    }\n",
       "</style>\n",
       "<table border=\"1\" class=\"dataframe\">\n",
       "  <thead>\n",
       "    <tr style=\"text-align: right;\">\n",
       "      <th></th>\n",
       "      <th>0</th>\n",
       "      <th>1</th>\n",
       "      <th>2</th>\n",
       "      <th>3</th>\n",
       "      <th>4</th>\n",
       "    </tr>\n",
       "  </thead>\n",
       "  <tbody>\n",
       "    <tr>\n",
       "      <th>gmat</th>\n",
       "      <td>0.0</td>\n",
       "      <td>1.0</td>\n",
       "      <td>0.600000</td>\n",
       "      <td>0.133333</td>\n",
       "      <td>0.800000</td>\n",
       "    </tr>\n",
       "    <tr>\n",
       "      <th>gpa</th>\n",
       "      <td>0.0</td>\n",
       "      <td>1.0</td>\n",
       "      <td>0.764706</td>\n",
       "      <td>0.176471</td>\n",
       "      <td>0.588235</td>\n",
       "    </tr>\n",
       "    <tr>\n",
       "      <th>work_experience</th>\n",
       "      <td>0.4</td>\n",
       "      <td>0.6</td>\n",
       "      <td>1.000000</td>\n",
       "      <td>0.000000</td>\n",
       "      <td>0.800000</td>\n",
       "    </tr>\n",
       "  </tbody>\n",
       "</table>\n",
       "</div>"
      ],
      "text/plain": [
       "                   0    1         2         3         4\n",
       "gmat             0.0  1.0  0.600000  0.133333  0.800000\n",
       "gpa              0.0  1.0  0.764706  0.176471  0.588235\n",
       "work_experience  0.4  0.6  1.000000  0.000000  0.800000"
      ]
     },
     "execution_count": 18,
     "metadata": {},
     "output_type": "execute_result"
    }
   ],
   "source": [
    "x_test = test_dataset.T\n",
    "x_test"
   ]
  },
  {
   "cell_type": "code",
   "execution_count": 19,
   "id": "forty-representative",
   "metadata": {},
   "outputs": [
    {
     "data": {
      "text/plain": [
       "(5, 1)"
      ]
     },
     "execution_count": 19,
     "metadata": {},
     "output_type": "execute_result"
    }
   ],
   "source": [
    "y_test = findLabel(x_test, W, B)\n",
    "y_test = y_test.T\n",
    "y_test.shape"
   ]
  },
  {
   "cell_type": "code",
   "execution_count": 20,
   "id": "matched-virgin",
   "metadata": {},
   "outputs": [
    {
     "data": {
      "text/plain": [
       "(5, 3)"
      ]
     },
     "execution_count": 20,
     "metadata": {},
     "output_type": "execute_result"
    }
   ],
   "source": [
    "test_data_final = pd.DataFrame(test_data)\n",
    "test_data_final.shape"
   ]
  },
  {
   "cell_type": "code",
   "execution_count": 21,
   "id": "featured-footage",
   "metadata": {},
   "outputs": [
    {
     "data": {
      "text/html": [
       "<div>\n",
       "<style scoped>\n",
       "    .dataframe tbody tr th:only-of-type {\n",
       "        vertical-align: middle;\n",
       "    }\n",
       "\n",
       "    .dataframe tbody tr th {\n",
       "        vertical-align: top;\n",
       "    }\n",
       "\n",
       "    .dataframe thead th {\n",
       "        text-align: right;\n",
       "    }\n",
       "</style>\n",
       "<table border=\"1\" class=\"dataframe\">\n",
       "  <thead>\n",
       "    <tr style=\"text-align: right;\">\n",
       "      <th></th>\n",
       "      <th>gmat</th>\n",
       "      <th>gpa</th>\n",
       "      <th>work_experience</th>\n",
       "      <th>submitted</th>\n",
       "    </tr>\n",
       "  </thead>\n",
       "  <tbody>\n",
       "    <tr>\n",
       "      <th>0</th>\n",
       "      <td>590</td>\n",
       "      <td>2.0</td>\n",
       "      <td>3</td>\n",
       "      <td>0</td>\n",
       "    </tr>\n",
       "    <tr>\n",
       "      <th>1</th>\n",
       "      <td>740</td>\n",
       "      <td>3.7</td>\n",
       "      <td>4</td>\n",
       "      <td>1</td>\n",
       "    </tr>\n",
       "    <tr>\n",
       "      <th>2</th>\n",
       "      <td>680</td>\n",
       "      <td>3.3</td>\n",
       "      <td>6</td>\n",
       "      <td>1</td>\n",
       "    </tr>\n",
       "    <tr>\n",
       "      <th>3</th>\n",
       "      <td>610</td>\n",
       "      <td>2.3</td>\n",
       "      <td>1</td>\n",
       "      <td>0</td>\n",
       "    </tr>\n",
       "    <tr>\n",
       "      <th>4</th>\n",
       "      <td>710</td>\n",
       "      <td>3.0</td>\n",
       "      <td>5</td>\n",
       "      <td>1</td>\n",
       "    </tr>\n",
       "  </tbody>\n",
       "</table>\n",
       "</div>"
      ],
      "text/plain": [
       "   gmat  gpa  work_experience  submitted\n",
       "0   590  2.0                3          0\n",
       "1   740  3.7                4          1\n",
       "2   680  3.3                6          1\n",
       "3   610  2.3                1          0\n",
       "4   710  3.0                5          1"
      ]
     },
     "execution_count": 21,
     "metadata": {},
     "output_type": "execute_result"
    }
   ],
   "source": [
    "test_data_final['submitted'] = y_test\n",
    "test_data_final"
   ]
  },
  {
   "cell_type": "markdown",
   "id": "boolean-reverse",
   "metadata": {},
   "source": [
    "Diatas adalah table test dataset setelah label sudah ditemukan."
   ]
  },
  {
   "cell_type": "markdown",
   "id": "likely-trauma",
   "metadata": {},
   "source": [
    "# Accuracy Validation"
   ]
  },
  {
   "cell_type": "code",
   "execution_count": 22,
   "id": "devoted-relaxation",
   "metadata": {},
   "outputs": [],
   "source": [
    "def accuracy(X, Y, W, B):\n",
    "    \n",
    "    Z = np.dot(W.T, X) + B\n",
    "    A = sigmoid(Z)\n",
    "    \n",
    "    A = A > 0.5\n",
    "    \n",
    "    A = A.astype(int)\n",
    "    \n",
    "    acc = (1 - np.sum(np.absolute(A - Y))/Y.shape[1])*100  \n",
    "    print(\"Accuracy of the model is : \", round(acc, 2), \"%\")\n",
    "    \n",
    "    return A"
   ]
  },
  {
   "cell_type": "code",
   "execution_count": 23,
   "id": "moved-sauce",
   "metadata": {},
   "outputs": [
    {
     "name": "stdout",
     "output_type": "stream",
     "text": [
      "Accuracy of the model is :  75.0 %\n"
     ]
    }
   ],
   "source": [
    "y_pred = accuracy(x_val, y_val, W, B)"
   ]
  },
  {
   "cell_type": "code",
   "execution_count": 24,
   "id": "impossible-international",
   "metadata": {},
   "outputs": [
    {
     "data": {
      "text/plain": [
       "array([[0, 1],\n",
       "       [0, 0]], dtype=int64)"
      ]
     },
     "execution_count": 24,
     "metadata": {},
     "output_type": "execute_result"
    }
   ],
   "source": [
    "from sklearn.metrics import confusion_matrix\n",
    "confusion_matrix(y_val.argmax(axis=1), y_pred.argmax(axis=1))"
   ]
  },
  {
   "cell_type": "markdown",
   "id": "motivated-stationery",
   "metadata": {},
   "source": [
    "Seperti yang dapat dilihat, function confusion_matrix tidak berjalan secara optimal sehingga output matrix kurang tepat. Dibawah akan saya visualisasikan\n",
    "confusion matrix secara manual."
   ]
  },
  {
   "cell_type": "markdown",
   "id": "hollywood-suicide",
   "metadata": {},
   "source": [
    "# Manual confusion_matrix"
   ]
  },
  {
   "cell_type": "code",
   "execution_count": 25,
   "id": "interested-maryland",
   "metadata": {},
   "outputs": [
    {
     "name": "stdout",
     "output_type": "stream",
     "text": [
      "Actual Label    : [[0 1 1 0 0 0 1 1]]\n",
      "Predicted Label : [[0 0 1 1 0 0 1 1]]\n"
     ]
    }
   ],
   "source": [
    "y_val = y_val.astype(int)\n",
    "print(\"Actual Label    :\",y_val)\n",
    "print(\"Predicted Label :\",y_pred)"
   ]
  },
  {
   "cell_type": "code",
   "execution_count": 26,
   "id": "flexible-intranet",
   "metadata": {},
   "outputs": [
    {
     "name": "stdout",
     "output_type": "stream",
     "text": [
      "TP : True Positive\n",
      "TN : True Negative\n",
      "FP : False Positive\n",
      "FN : False Negative\n",
      "\n",
      "[TP, FN]\n",
      "[FN, TN]\n",
      "\n",
      "[3, 1]\n",
      "[1, 3]\n"
     ]
    }
   ],
   "source": [
    "print(\"TP : True Positive\\nTN : True Negative\\nFP : False Positive\\nFN : False Negative\\n\")\n",
    "print(\"[TP, FN]\\n[FN, TN]\\n\")\n",
    "print(\"[3, 1]\\n[1, 3]\")"
   ]
  },
  {
   "cell_type": "markdown",
   "id": "controlling-montreal",
   "metadata": {},
   "source": [
    "Sehingga dari total 8 data testing, model saya mendapatkan jumlah prediksi benar sebanyak 6 kali(3 TP + 3 TP) dan prediksi salah sebanyak 2 kali (1 FP + 1 FN)"
   ]
  },
  {
   "cell_type": "markdown",
   "id": "catholic-portuguese",
   "metadata": {},
   "source": [
    "Final Accuracy Score = 75%"
   ]
  }
 ],
 "metadata": {
  "kernelspec": {
   "display_name": "Python 3",
   "language": "python",
   "name": "python3"
  },
  "language_info": {
   "codemirror_mode": {
    "name": "ipython",
    "version": 3
   },
   "file_extension": ".py",
   "mimetype": "text/x-python",
   "name": "python",
   "nbconvert_exporter": "python",
   "pygments_lexer": "ipython3",
   "version": "3.7.9"
  }
 },
 "nbformat": 4,
 "nbformat_minor": 5
}
