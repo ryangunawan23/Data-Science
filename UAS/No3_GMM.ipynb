{
 "cells": [
  {
   "cell_type": "markdown",
   "id": "pointed-grave",
   "metadata": {},
   "source": [
    "# No 3 - GMM\n",
    "Ryan Razaan Gunawan - 2301878290"
   ]
  },
  {
   "cell_type": "code",
   "execution_count": 1,
   "id": "advance-saturn",
   "metadata": {},
   "outputs": [],
   "source": [
    "import numpy as np\n",
    "import pandas as pd\n",
    "import matplotlib.pyplot as plt\n",
    "import seaborn as sns\n",
    "import sklearn\n",
    "from scipy.stats import multivariate_normal\n",
    "from sklearn.mixture import GaussianMixture"
   ]
  },
  {
   "cell_type": "code",
   "execution_count": 2,
   "id": "secure-davis",
   "metadata": {},
   "outputs": [
    {
     "data": {
      "image/png": "[encoded data removed]",
      "text/plain": [
       "<Figure size 432x288 with 1 Axes>"
      ]
     },
     "metadata": {
      "needs_background": "light"
     },
     "output_type": "display_data"
    }
   ],
   "source": [
    "dataset = pd.read_csv(\"UAS_ML2021_DATASET02.csv\")\n",
    "\n",
    "features = dataset['Atribut_01']\n",
    "label = dataset['Atribut_02']\n",
    "\n",
    "plt.scatter(features,label)\n",
    "plt.xlabel('features')\n",
    "plt.ylabel('label')\n",
    "plt.show()"
   ]
  },
  {
   "cell_type": "code",
   "execution_count": 3,
   "id": "certified-pontiac",
   "metadata": {},
   "outputs": [],
   "source": [
    "# Data normalization\n",
    "from sklearn.preprocessing import StandardScaler\n",
    "\n",
    "scaler = StandardScaler()\n",
    "scaled_data = scaler.fit_transform(dataset)"
   ]
  },
  {
   "cell_type": "code",
   "execution_count": 4,
   "id": "fallen-correction",
   "metadata": {},
   "outputs": [
    {
     "data": {
      "image/png": "[encoded data removed]",
      "text/plain": [
       "<Figure size 432x288 with 1 Axes>"
      ]
     },
     "metadata": {
      "needs_background": "light"
     },
     "output_type": "display_data"
    }
   ],
   "source": [
    "from sklearn.metrics import silhouette_score\n",
    "from sklearn.cluster import KMeans\n",
    "\n",
    "range_n_clusters = [2, 3, 4, 5, 6, 7, 8]\n",
    "silhouette_avg = []\n",
    "\n",
    "for num_clusters in range_n_clusters:\n",
    "    # initialise kmeans\n",
    "    kmeans = KMeans(n_clusters=num_clusters)\n",
    "    kmeans.fit(scaled_data)\n",
    "    cluster_labels = kmeans.labels_\n",
    "    # silhouette score\n",
    "    silhouette_avg.append(silhouette_score(scaled_data, cluster_labels))\n",
    "\n",
    "plt.plot(range_n_clusters,silhouette_avg)\n",
    "plt.xlabel('K')\n",
    "plt.ylabel('Silhouette score')\n",
    "plt.show()"
   ]
  },
  {
   "cell_type": "markdown",
   "id": "communist-replacement",
   "metadata": {},
   "source": [
    "Berdasarkan graph diatas, K=3."
   ]
  },
  {
   "cell_type": "code",
   "execution_count": 5,
   "id": "assured-assets",
   "metadata": {},
   "outputs": [
    {
     "name": "stdout",
     "output_type": "stream",
     "text": [
      "For K = 3, score is 0.7356847709879414\n"
     ]
    }
   ],
   "source": [
    "cluster = KMeans (n_clusters=3).fit(scaled_data)\n",
    "pred = cluster.predict(scaled_data)\n",
    "center = cluster.cluster_centers_\n",
    "\n",
    "# Silhoutte Score\n",
    "score = silhouette_score (scaled_data, pred, metric='euclidean')\n",
    "print (f\"For K = 3, score is {score}\")"
   ]
  },
  {
   "cell_type": "code",
   "execution_count": 6,
   "id": "leading-mechanism",
   "metadata": {},
   "outputs": [
    {
     "name": "stdout",
     "output_type": "stream",
     "text": [
      "[[ 1.197698    1.32922733]\n",
      " [-1.47732521 -1.40637377]\n",
      " [ 0.12696481  0.02289726]]\n"
     ]
    }
   ],
   "source": [
    "kmeans = KMeans(n_clusters=3).fit(scaled_data)\n",
    "centre_k = kmeans.cluster_centers_\n",
    "print(centre_k)"
   ]
  },
  {
   "cell_type": "code",
   "execution_count": 7,
   "id": "tracked-emphasis",
   "metadata": {},
   "outputs": [],
   "source": [
    "# Initialiaze means, covariance, and mixing coefficient based on k-Means parameters\n",
    "mu = np.array(centre_k)\n",
    "sigma = np.array([[[.5, .5], [.5, .5]],\n",
    "                  [[.5, .5], [.5, .5]],\n",
    "\t\t\t\t[[.5, .5], [.5, .5]]])\n",
    "phi = np.array([.5, .5, .5])"
   ]
  },
  {
   "cell_type": "code",
   "execution_count": 8,
   "id": "concrete-wheat",
   "metadata": {},
   "outputs": [
    {
     "name": "stdout",
     "output_type": "stream",
     "text": [
      "       Atribut_01  Atribut_02\n",
      "count  500.000000  500.000000\n",
      "mean    61.270240  169.515781\n",
      "std      5.196976    4.805095\n",
      "min     50.433644  160.182164\n",
      "25%     57.772791  166.607599\n",
      "50%     61.961518  169.726252\n",
      "75%     65.439332  172.837284\n",
      "max     70.700456  178.894770\n",
      "(500, 2)\n"
     ]
    }
   ],
   "source": [
    "print(dataset.describe())\n",
    "print(dataset.shape)"
   ]
  },
  {
   "cell_type": "code",
   "execution_count": 9,
   "id": "alpha-yeast",
   "metadata": {},
   "outputs": [],
   "source": [
    "# Calculate initial value of log likelihood\n",
    "likelihood = np.zeros( (500, 3) )\n",
    "\n",
    "# Responsibility (resp) shows the probability of every single item belong to cluster 0 or cluster 1 (only 2 cluster\n",
    "resp = np.zeros((500,3))"
   ]
  },
  {
   "cell_type": "code",
   "execution_count": 10,
   "id": "supreme-grade",
   "metadata": {},
   "outputs": [
    {
     "name": "stdout",
     "output_type": "stream",
     "text": [
      "-701.494140915368\n"
     ]
    }
   ],
   "source": [
    "for i in range(3):\n",
    "    likelihood[:,i] = multivariate_normal.pdf(scaled_data, mu[i], sigma[i], allow_singular=True)\n",
    "    resp[:, i] = phi[i] * likelihood[:,i]\n",
    "\n",
    "# Rumus log likelihood\n",
    "loglikelihood = np.sum(np.log(np.sum(resp, axis = 1)))\n",
    "\n",
    "resp = resp / resp.sum(axis = 1, keepdims = 1)\n",
    "\n",
    "print(loglikelihood)"
   ]
  },
  {
   "cell_type": "code",
   "execution_count": 11,
   "id": "following-backup",
   "metadata": {},
   "outputs": [
    {
     "name": "stdout",
     "output_type": "stream",
     "text": [
      "[0.29879844 0.26889457 0.43230699]\n",
      "\n",
      "\n",
      "[[ 0.9087066   0.94806082]\n",
      " [-1.2489324  -1.19302134]\n",
      " [ 0.1487624   0.08678524]]\n",
      "\n",
      "\n",
      "[[[0.27081609 0.29901295]\n",
      "  [0.29901295 0.40458597]]\n",
      "\n",
      " [[0.34278157 0.30429119]\n",
      "  [0.30429119 0.29823786]]\n",
      "\n",
      " [[0.34970263 0.28364414]\n",
      "  [0.28364414 0.33396724]]]\n"
     ]
    }
   ],
   "source": [
    "# Recalculate means and covariance\n",
    "for i in range(3):\n",
    "    weight = resp[:, [i]]\n",
    "    total_weight = weight.sum()\n",
    "    mu[i] = (scaled_data * weight).sum(axis=0) / total_weight\n",
    "    sigma[i] = np.cov(scaled_data.T, aweights=(weight/total_weight).flatten(), bias=True)\n",
    "# Recalculate mixing coefficient pj and please note the pj\n",
    "# now changes from (3/7,4/7) to (2/7,5/7)\n",
    "phi = resp.mean(axis=0)\n",
    "print (phi)\n",
    "print('\\n')\n",
    "print (mu)\n",
    "print('\\n')\n",
    "print (sigma)"
   ]
  },
  {
   "cell_type": "code",
   "execution_count": 12,
   "id": "verified-recipe",
   "metadata": {},
   "outputs": [
    {
     "name": "stdout",
     "output_type": "stream",
     "text": [
      "Epoch :  0   | Loglikelihood :  -675.083192587801\n",
      "Epoch :  1   | Loglikelihood :  -581.8132574391518\n",
      "Epoch :  2   | Loglikelihood :  -474.04774492758605\n",
      "Epoch :  3   | Loglikelihood :  -434.0488002585404\n",
      "Epoch :  4   | Loglikelihood :  -410.9640284566687\n",
      "Epoch :  5   | Loglikelihood :  -399.1057411701005\n",
      "Epoch :  6   | Loglikelihood :  -397.6936952078327\n",
      "Epoch :  7   | Loglikelihood :  -397.6115742051681\n",
      "Epoch :  8   | Loglikelihood :  -397.60542114677446\n",
      "Epoch :  9   | Loglikelihood :  -397.6049446452311\n",
      "Epoch :  10   | Loglikelihood :  -397.6049075527442\n",
      "Epoch :  11   | Loglikelihood :  -397.60490466202305\n",
      "Epoch :  12   | Loglikelihood :  -397.60490443667527\n",
      "Epoch :  13   | Loglikelihood :  -397.6049044191068\n",
      "Epoch :  14   | Loglikelihood :  -397.6049044177371\n",
      "Epoch :  15   | Loglikelihood :  -397.6049044176303\n",
      "Epoch :  16   | Loglikelihood :  -397.604904417622\n",
      "Epoch :  17   | Loglikelihood :  -397.604904417621\n",
      "Epoch :  18   | Loglikelihood :  -397.60490441762124\n",
      "Epoch :  19   | Loglikelihood :  -397.60490441762124\n",
      "Epoch :  20   | Loglikelihood :  -397.60490441762124\n",
      "Epoch :  21   | Loglikelihood :  -397.60490441762124\n",
      "Epoch :  22   | Loglikelihood :  -397.6049044176213\n",
      "Epoch :  23   | Loglikelihood :  -397.60490441762124\n",
      "Epoch :  24   | Loglikelihood :  -397.6049044176211\n",
      "Epoch :  25   | Loglikelihood :  -397.60490441762136\n",
      "Epoch :  26   | Loglikelihood :  -397.60490441762124\n",
      "Epoch :  27   | Loglikelihood :  -397.60490441762124\n",
      "Epoch :  28   | Loglikelihood :  -397.6049044176211\n",
      "Epoch :  29   | Loglikelihood :  -397.6049044176213\n",
      "Epoch :  30   | Loglikelihood :  -397.6049044176212\n",
      "Epoch :  31   | Loglikelihood :  -397.6049044176212\n",
      "Epoch :  32   | Loglikelihood :  -397.60490441762124\n",
      "Epoch :  33   | Loglikelihood :  -397.6049044176211\n",
      "Epoch :  34   | Loglikelihood :  -397.6049044176212\n",
      "Epoch :  35   | Loglikelihood :  -397.6049044176212\n",
      "Epoch :  36   | Loglikelihood :  -397.6049044176212\n",
      "Epoch :  37   | Loglikelihood :  -397.6049044176212\n",
      "Epoch :  38   | Loglikelihood :  -397.6049044176212\n",
      "Epoch :  39   | Loglikelihood :  -397.6049044176212\n",
      "Epoch :  40   | Loglikelihood :  -397.6049044176212\n",
      "Epoch :  41   | Loglikelihood :  -397.6049044176212\n",
      "Epoch :  42   | Loglikelihood :  -397.6049044176212\n",
      "Epoch :  43   | Loglikelihood :  -397.6049044176212\n",
      "Epoch :  44   | Loglikelihood :  -397.6049044176212\n",
      "Epoch :  45   | Loglikelihood :  -397.6049044176212\n",
      "Epoch :  46   | Loglikelihood :  -397.6049044176212\n",
      "Epoch :  47   | Loglikelihood :  -397.6049044176212\n",
      "Epoch :  48   | Loglikelihood :  -397.6049044176212\n",
      "Epoch :  49   | Loglikelihood :  -397.6049044176212\n",
      "Epoch :  50   | Loglikelihood :  -397.6049044176212\n",
      "Epoch :  51   | Loglikelihood :  -397.6049044176212\n",
      "Epoch :  52   | Loglikelihood :  -397.6049044176212\n",
      "Epoch :  53   | Loglikelihood :  -397.6049044176212\n",
      "Epoch :  54   | Loglikelihood :  -397.6049044176212\n",
      "Epoch :  55   | Loglikelihood :  -397.6049044176212\n",
      "Epoch :  56   | Loglikelihood :  -397.6049044176212\n",
      "Epoch :  57   | Loglikelihood :  -397.6049044176212\n",
      "Epoch :  58   | Loglikelihood :  -397.6049044176212\n",
      "Epoch :  59   | Loglikelihood :  -397.6049044176212\n",
      "Epoch :  60   | Loglikelihood :  -397.6049044176212\n",
      "Epoch :  61   | Loglikelihood :  -397.6049044176212\n",
      "Epoch :  62   | Loglikelihood :  -397.6049044176212\n",
      "Epoch :  63   | Loglikelihood :  -397.6049044176212\n",
      "Epoch :  64   | Loglikelihood :  -397.6049044176212\n",
      "Epoch :  65   | Loglikelihood :  -397.6049044176212\n",
      "Epoch :  66   | Loglikelihood :  -397.6049044176212\n",
      "Epoch :  67   | Loglikelihood :  -397.6049044176212\n",
      "Epoch :  68   | Loglikelihood :  -397.6049044176212\n",
      "Epoch :  69   | Loglikelihood :  -397.6049044176212\n",
      "Epoch :  70   | Loglikelihood :  -397.6049044176212\n",
      "Epoch :  71   | Loglikelihood :  -397.6049044176212\n",
      "Epoch :  72   | Loglikelihood :  -397.6049044176212\n",
      "Epoch :  73   | Loglikelihood :  -397.6049044176212\n",
      "Epoch :  74   | Loglikelihood :  -397.6049044176212\n",
      "Epoch :  75   | Loglikelihood :  -397.6049044176212\n",
      "Epoch :  76   | Loglikelihood :  -397.6049044176212\n",
      "Epoch :  77   | Loglikelihood :  -397.6049044176212\n",
      "Epoch :  78   | Loglikelihood :  -397.6049044176212\n",
      "Epoch :  79   | Loglikelihood :  -397.6049044176212\n",
      "Epoch :  80   | Loglikelihood :  -397.6049044176212\n",
      "Epoch :  81   | Loglikelihood :  -397.6049044176212\n",
      "Epoch :  82   | Loglikelihood :  -397.6049044176212\n",
      "Epoch :  83   | Loglikelihood :  -397.6049044176212\n",
      "Epoch :  84   | Loglikelihood :  -397.6049044176212\n",
      "Epoch :  85   | Loglikelihood :  -397.6049044176212\n",
      "Epoch :  86   | Loglikelihood :  -397.6049044176212\n",
      "Epoch :  87   | Loglikelihood :  -397.6049044176212\n",
      "Epoch :  88   | Loglikelihood :  -397.6049044176212\n",
      "Epoch :  89   | Loglikelihood :  -397.6049044176212\n",
      "Epoch :  90   | Loglikelihood :  -397.6049044176212\n",
      "Epoch :  91   | Loglikelihood :  -397.6049044176212\n",
      "Epoch :  92   | Loglikelihood :  -397.6049044176212\n",
      "Epoch :  93   | Loglikelihood :  -397.6049044176212\n",
      "Epoch :  94   | Loglikelihood :  -397.6049044176212\n",
      "Epoch :  95   | Loglikelihood :  -397.6049044176212\n",
      "Epoch :  96   | Loglikelihood :  -397.6049044176212\n",
      "Epoch :  97   | Loglikelihood :  -397.6049044176212\n",
      "Epoch :  98   | Loglikelihood :  -397.6049044176212\n",
      "Epoch :  99   | Loglikelihood :  -397.6049044176212\n"
     ]
    }
   ],
   "source": [
    "for j in range (100):\n",
    "    for i in range(3):\n",
    "        likelihood[:,i] = multivariate_normal.pdf(scaled_data, mu[i], sigma[i], allow_singular=True)\n",
    "        resp[:, i] = phi[i] * likelihood[:,i]\n",
    "\n",
    "    # Rumus log likelihood\n",
    "    loglikelihood = np.sum(np.log(np.sum(resp, axis = 1)))\n",
    "\n",
    "    resp = resp / resp.sum(axis = 1, keepdims = 1)\n",
    "    \n",
    "    for i in range(3):\n",
    "        weight = resp[:, [i]]\n",
    "        total_weight = weight.sum()\n",
    "        mu[i] = (scaled_data * weight).sum(axis=0) / total_weight\n",
    "        sigma[i] = np.cov(scaled_data.T, aweights=(weight/total_weight).flatten(), bias=True)\n",
    "    \n",
    "#     if(loglikelihood[j] == loglikelihood[j-1]):\n",
    "#         j = 100\n",
    "#         print(\"We found log likelihood convergence at \", j,\"-th Iterations\")\n",
    "    \n",
    "    print(\"Epoch : \",j,\"  | Loglikelihood : \",loglikelihood)"
   ]
  },
  {
   "cell_type": "code",
   "execution_count": null,
   "id": "technological-wales",
   "metadata": {},
   "outputs": [],
   "source": [
    "Seperti yang dapat lihat, pada epoch ke"
   ]
  },
  {
   "cell_type": "code",
   "execution_count": 13,
   "id": "reliable-relief",
   "metadata": {},
   "outputs": [
    {
     "data": {
      "text/plain": [
       "-0.7853616483298629"
      ]
     },
     "execution_count": 13,
     "metadata": {},
     "output_type": "execute_result"
    }
   ],
   "source": [
    "GMM = GaussianMixture (n_components=3).fit(scaled_data)\n",
    "labels = GMM.predict (scaled_data)\n",
    "optimal = GMM.score(scaled_data)\n",
    "optimal"
   ]
  },
  {
   "cell_type": "code",
   "execution_count": 14,
   "id": "premier-international",
   "metadata": {},
   "outputs": [
    {
     "data": {
      "text/plain": [
       "<matplotlib.collections.PathCollection at 0x2704021b488>"
      ]
     },
     "execution_count": 14,
     "metadata": {},
     "output_type": "execute_result"
    },
    {
     "data": {
      "image/png": "[encoded data removed]",
      "text/plain": [
       "<Figure size 432x288 with 1 Axes>"
      ]
     },
     "metadata": {
      "needs_background": "light"
     },
     "output_type": "display_data"
    }
   ],
   "source": [
    "plt.scatter (scaled_data[:, 0], scaled_data[:, 1], c = labels, s = 40, cmap='gist_rainbow')"
   ]
  },
  {
   "cell_type": "code",
   "execution_count": null,
   "id": "least-group",
   "metadata": {},
   "outputs": [],
   "source": []
  }
 ],
 "metadata": {
  "kernelspec": {
   "display_name": "Python 3",
   "language": "python",
   "name": "python3"
  },
  "language_info": {
   "codemirror_mode": {
    "name": "ipython",
    "version": 3
   },
   "file_extension": ".py",
   "mimetype": "text/x-python",
   "name": "python",
   "nbconvert_exporter": "python",
   "pygments_lexer": "ipython3",
   "version": "3.7.9"
  }
 },
 "nbformat": 4,
 "nbformat_minor": 5
}
