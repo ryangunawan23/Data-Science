{
 "cells": [
  {
   "cell_type": "markdown",
   "id": "wired-blanket",
   "metadata": {},
   "source": [
    "# Ryan Razaan Gunawan\n",
    "# 2301878290"
   ]
  },
  {
   "cell_type": "code",
   "execution_count": 17,
   "id": "concrete-pakistan",
   "metadata": {},
   "outputs": [
    {
     "name": "stderr",
     "output_type": "stream",
     "text": [
      "[nltk_data] Downloading package punkt to\n",
      "[nltk_data]     C:\\Users\\ryang\\AppData\\Roaming\\nltk_data...\n",
      "[nltk_data]   Package punkt is already up-to-date!\n",
      "[nltk_data] Downloading package universal_tagset to\n",
      "[nltk_data]     C:\\Users\\ryang\\AppData\\Roaming\\nltk_data...\n",
      "[nltk_data]   Unzipping taggers\\universal_tagset.zip.\n"
     ]
    },
    {
     "data": {
      "text/plain": [
       "True"
      ]
     },
     "execution_count": 17,
     "metadata": {},
     "output_type": "execute_result"
    }
   ],
   "source": [
    "import nltk\n",
    "nltk.download('punkt')"
   ]
  },
  {
   "cell_type": "code",
   "execution_count": 25,
   "id": "sixth-circuit",
   "metadata": {},
   "outputs": [
    {
     "name": "stdout",
     "output_type": "stream",
     "text": [
      "[('you', 'PRP'), ('like', 'IN'), ('data', 'NNS'), ('science', 'NN')]\n",
      "[('structured', 'VBN'), ('data', 'NNS'), ('is', 'VBZ'), ('the', 'DT'), ('best', 'JJS')]\n",
      "[('interesting', 'JJ'), ('recommendation', 'NN')]\n",
      "[('you', 'PRP'), ('stop', 'VBP'), ('to', 'TO'), ('guide', 'VB'), ('machine', 'NN')]\n",
      "[('knowledge', 'NN'), ('from', 'IN'), ('domains', 'NNS')]\n"
     ]
    }
   ],
   "source": [
    "text1 = nltk.word_tokenize('you like data science')\n",
    "text2 = nltk.word_tokenize('structured data is the best')\n",
    "text3 = nltk.word_tokenize('interesting recommendation')\n",
    "text4 = nltk.word_tokenize('you stop to guide machine')\n",
    "text5 = nltk.word_tokenize('knowledge from domains')\n",
    "\n",
    "print(nltk.pos_tag(text1))\n",
    "print(nltk.pos_tag(text2))\n",
    "print(nltk.pos_tag(text3))\n",
    "print(nltk.pos_tag(text4))\n",
    "print(nltk.pos_tag(text5))"
   ]
  },
  {
   "cell_type": "code",
   "execution_count": null,
   "id": "statewide-journalism",
   "metadata": {},
   "outputs": [],
   "source": []
  }
 ],
 "metadata": {
  "kernelspec": {
   "display_name": "Python 3",
   "language": "python",
   "name": "python3"
  },
  "language_info": {
   "codemirror_mode": {
    "name": "ipython",
    "version": 3
   },
   "file_extension": ".py",
   "mimetype": "text/x-python",
   "name": "python",
   "nbconvert_exporter": "python",
   "pygments_lexer": "ipython3",
   "version": "3.7.9"
  }
 },
 "nbformat": 4,
 "nbformat_minor": 5
}
