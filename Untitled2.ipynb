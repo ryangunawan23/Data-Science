{
 "cells": [
  {
   "cell_type": "code",
   "execution_count": 1,
   "id": "copyrighted-acrobat",
   "metadata": {},
   "outputs": [],
   "source": [
    "import math\n",
    "import numpy as np\n",
    "import matplotlib.pyplot as plt\n",
    "import pandas as pd"
   ]
  },
  {
   "cell_type": "code",
   "execution_count": 2,
   "id": "acoustic-million",
   "metadata": {},
   "outputs": [],
   "source": [
    "np.random.seed(1)\n",
    "sin_wave = np.array([math.sin(x) for x in np.arange(200)])\n",
    "\n",
    "X = []\n",
    "Y = []\n",
    "\n",
    "seq_len = 10\n",
    "num_records = len(sin_wave) - seq_len\n",
    "\n",
    "for i in range(50):\n",
    "    X.append(sin_wave[i:i+seq_len])\n",
    "\n",
    "    \n",
    "X = np.array(X)\n",
    "X = np.expand_dims(X, axis=2)\n",
    "\n",
    "Y = np.random.randint(2, size=20)\n",
    "Y = np.array(Y)\n",
    "Y = np.expand_dims(Y, axis=1)\n",
    "\n",
    "X_train =  X[:30]\n",
    "Y_train =  Y[:30]\n",
    "X_test = X[30:]\n",
    "Y_test = Y[30:]"
   ]
  },
  {
   "cell_type": "code",
   "execution_count": null,
   "id": "correct-climb",
   "metadata": {},
   "outputs": [],
   "source": []
  }
 ],
 "metadata": {
  "kernelspec": {
   "display_name": "Python 3",
   "language": "python",
   "name": "python3"
  },
  "language_info": {
   "codemirror_mode": {
    "name": "ipython",
    "version": 3
   },
   "file_extension": ".py",
   "mimetype": "text/x-python",
   "name": "python",
   "nbconvert_exporter": "python",
   "pygments_lexer": "ipython3",
   "version": "3.7.9"
  }
 },
 "nbformat": 4,
 "nbformat_minor": 5
}
