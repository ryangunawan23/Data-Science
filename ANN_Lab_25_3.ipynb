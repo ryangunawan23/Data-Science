{
 "cells": [
  {
   "cell_type": "code",
   "execution_count": 2,
   "metadata": {
    "id": "Cv58McVPpwXG"
   },
   "outputs": [],
   "source": [
    "import numpy as np\n",
    "import pandas as pd\n",
    "import matplotlib.pyplot as plt\n",
    "import tensorflow as tf\n",
    "from sklearn.neural_network import MLPClassifier\n",
    "from sklearn.datasets import make_classification\n",
    "from sklearn.model_selection import train_test_split\n",
    "from sklearn.preprocessing import MinMaxScaler, OneHotEncoder"
   ]
  },
  {
   "cell_type": "code",
   "execution_count": 3,
   "metadata": {
    "id": "LrAtLROhpw7X"
   },
   "outputs": [
    {
     "data": {
      "text/plain": [
       "(12, 1)"
      ]
     },
     "execution_count": 3,
     "metadata": {},
     "output_type": "execute_result"
    }
   ],
   "source": [
    "#Load Dataset\n",
    "\n",
    "features = np.array([\n",
    "        [0.08, 0.72],\n",
    "        [0.2, 0.5],\n",
    "        [0.24, 0.30],\n",
    "        [0.35, 0.35],\n",
    "        [0.45, 0.50],\n",
    "        [0.02, 0.48],\n",
    "        [0.1, 1.0],\n",
    "        [0.36, 0.75],\n",
    "        [0.52, 0.24],\n",
    "        [0.70, 0.65],\n",
    "        [0.8, 0.26],\n",
    "        [0.92, 0.45]])\n",
    "target = np.array([1,1,1,1,1,-1,-1,-1,-1,-1,-1,-1]).reshape(-1,1)\n",
    "target.shape"
   ]
  },
  {
   "cell_type": "code",
   "execution_count": 4,
   "metadata": {
    "id": "RMnDGloCrBuK"
   },
   "outputs": [],
   "source": [
    "#Preprocessing Dataset\n",
    "\n",
    "scaler = MinMaxScaler()\n",
    "features = scaler.fit_transform(features)\n",
    "\n",
    "encoder = OneHotEncoder()\n",
    "target = encoder.fit_transform(target).toarray()"
   ]
  },
  {
   "cell_type": "code",
   "execution_count": 5,
   "metadata": {
    "id": "AfOtap0DutJT"
   },
   "outputs": [],
   "source": [
    "#Variabel pembantu untuk model\n",
    "\n",
    "layer = {\n",
    "    'input' : 2,\n",
    "    'hidden' : 64,\n",
    "    'output' : 2\n",
    "}\n",
    "\n",
    "weight = {\n",
    "    'th' : tf.Variable(tf.random_normal([layer['input'], layer['hidden']])),\n",
    "    'to' : tf.Variable(tf.random_normal([layer['hidden'], layer['output']]))\n",
    "}\n",
    "\n",
    "bias = {#Split Dataset\n",
    "\n",
    "x_train, x_test, y_train, y_test = train_test_split(features, target, test_size = 0.2)\n",
    "\n",
    "x = tf.placeholder(tf.float32, [None, layer['input']])\n",
    "target = tf.placeholder(tf.float32, [None, layer['output']])\n",
    "    'th' : tf.Variable(tf.random_normal([layer['hidden']])),\n",
    "    'to' : tf.Variable(tf.random_normal([layer['output']]))\n",
    "}"
   ]
  },
  {
   "cell_type": "code",
   "execution_count": 6,
   "metadata": {
    "id": "zRQEBTaswflP"
   },
   "outputs": [],
   "source": [
    "#Split Dataset\n",
    "\n",
    "x_train, x_test, y_train, y_test = train_test_split(features, target, test_size = 0.2)\n",
    "\n",
    "x = tf.placeholder(tf.float32, [None, layer['input']])\n",
    "target = tf.placeholder(tf.float32, [None, layer['output']])"
   ]
  },
  {
   "cell_type": "code",
   "execution_count": 7,
   "metadata": {
    "id": "msuF73tUzUPy"
   },
   "outputs": [],
   "source": [
    "#Function Forward Pass // Prediction\n",
    "\n",
    "def forward_pass():\n",
    "    wx_b1 = tf.matmul(x, weight['th']) + bias['th']\n",
    "    y1 = tf.nn.sigmoid(wx_b1)\n",
    "\n",
    "    wx_b2 = tf.matmul(y1, weight['to']) + bias['to']\n",
    "    y2 = tf.nn.sigmoid(wx_b2)\n",
    "\n",
    "    return y2"
   ]
  },
  {
   "cell_type": "code",
   "execution_count": 8,
   "metadata": {
    "id": "3iBCaOpd0IsI"
   },
   "outputs": [
    {
     "name": "stdout",
     "output_type": "stream",
     "text": [
      "WARNING:tensorflow:From c:\\users\\ryang\\appdata\\local\\programs\\python\\python37\\lib\\site-packages\\tensorflow_core\\python\\ops\\math_grad.py:1375: where (from tensorflow.python.ops.array_ops) is deprecated and will be removed in a future version.\n",
      "Instructions for updating:\n",
      "Use tf.where in 2.0, which has the same broadcast rule as np.where\n"
     ]
    }
   ],
   "source": [
    "#Isi value dari prediction kita\n",
    "\n",
    "y = forward_pass()\n",
    "\n",
    "#Variable yang membantu kita dalam training dan testing\n",
    "\n",
    "epoch = 500\n",
    "alpha = 0.1\n",
    "\n",
    "#MSE Function\n",
    "\n",
    "error = tf.reduce_mean(0.5 * (target-y) ** 2)\n",
    "optimizer = tf.train.GradientDescentOptimizer(alpha)\n",
    "train = optimizer.minimize(error)"
   ]
  },
  {
   "cell_type": "code",
   "execution_count": 9,
   "metadata": {
    "id": "BJyF-7cj2hp_"
   },
   "outputs": [
    {
     "name": "stdout",
     "output_type": "stream",
     "text": [
      "epoch : 1 | Accuracy : 0.0000 | Error : 0.1763\n",
      "epoch : 11 | Accuracy : 0.0000 | Error : 0.1600\n",
      "epoch : 21 | Accuracy : 0.0000 | Error : 0.1492\n",
      "epoch : 31 | Accuracy : 0.0000 | Error : 0.1448\n",
      "epoch : 41 | Accuracy : 0.0000 | Error : 0.1424\n",
      "epoch : 51 | Accuracy : 0.0000 | Error : 0.1408\n",
      "epoch : 61 | Accuracy : 0.0000 | Error : 0.1396\n",
      "epoch : 71 | Accuracy : 0.0000 | Error : 0.1387\n",
      "epoch : 81 | Accuracy : 0.0000 | Error : 0.1381\n",
      "epoch : 91 | Accuracy : 0.0000 | Error : 0.1375\n",
      "epoch : 101 | Accuracy : 0.0000 | Error : 0.1370\n",
      "epoch : 111 | Accuracy : 0.0000 | Error : 0.1365\n",
      "epoch : 121 | Accuracy : 0.0000 | Error : 0.1361\n",
      "epoch : 131 | Accuracy : 0.0000 | Error : 0.1356\n",
      "epoch : 141 | Accuracy : 0.0000 | Error : 0.1351\n",
      "epoch : 151 | Accuracy : 0.0000 | Error : 0.1347\n",
      "epoch : 161 | Accuracy : 0.0000 | Error : 0.1342\n",
      "epoch : 171 | Accuracy : 0.0000 | Error : 0.1337\n",
      "epoch : 181 | Accuracy : 0.0000 | Error : 0.1332\n",
      "epoch : 191 | Accuracy : 0.0000 | Error : 0.1327\n",
      "epoch : 201 | Accuracy : 0.0000 | Error : 0.1322\n",
      "epoch : 211 | Accuracy : 0.0000 | Error : 0.1317\n",
      "epoch : 221 | Accuracy : 0.0000 | Error : 0.1311\n",
      "epoch : 231 | Accuracy : 0.0000 | Error : 0.1306\n",
      "epoch : 241 | Accuracy : 0.0000 | Error : 0.1300\n",
      "epoch : 251 | Accuracy : 0.0000 | Error : 0.1294\n",
      "epoch : 261 | Accuracy : 0.0000 | Error : 0.1288\n",
      "epoch : 271 | Accuracy : 0.0000 | Error : 0.1282\n",
      "epoch : 281 | Accuracy : 0.0000 | Error : 0.1276\n",
      "epoch : 291 | Accuracy : 0.0000 | Error : 0.1270\n",
      "epoch : 301 | Accuracy : 0.0000 | Error : 0.1263\n",
      "epoch : 311 | Accuracy : 0.0000 | Error : 0.1257\n",
      "epoch : 321 | Accuracy : 0.0000 | Error : 0.1250\n",
      "epoch : 331 | Accuracy : 0.0000 | Error : 0.1243\n",
      "epoch : 341 | Accuracy : 0.0000 | Error : 0.1237\n",
      "epoch : 351 | Accuracy : 0.3333 | Error : 0.1230\n",
      "epoch : 361 | Accuracy : 0.3333 | Error : 0.1223\n",
      "epoch : 371 | Accuracy : 0.3333 | Error : 0.1215\n",
      "epoch : 381 | Accuracy : 0.3333 | Error : 0.1208\n",
      "epoch : 391 | Accuracy : 0.3333 | Error : 0.1201\n",
      "epoch : 401 | Accuracy : 0.3333 | Error : 0.1194\n",
      "epoch : 411 | Accuracy : 0.3333 | Error : 0.1186\n",
      "epoch : 421 | Accuracy : 0.3333 | Error : 0.1179\n",
      "epoch : 431 | Accuracy : 0.3333 | Error : 0.1172\n",
      "epoch : 441 | Accuracy : 0.3333 | Error : 0.1164\n",
      "epoch : 451 | Accuracy : 0.3333 | Error : 0.1157\n",
      "epoch : 461 | Accuracy : 0.3333 | Error : 0.1150\n",
      "epoch : 471 | Accuracy : 0.3333 | Error : 0.1143\n",
      "epoch : 481 | Accuracy : 0.3333 | Error : 0.1135\n",
      "epoch : 491 | Accuracy : 0.3333 | Error : 0.1128\n"
     ]
    }
   ],
   "source": [
    "with tf.Session() as sess:\n",
    "    sess.run(tf.global_variables_initializer())\n",
    "\n",
    "    for i in range(epoch):\n",
    "        sess.run(\n",
    "            train,\n",
    "            feed_dict={\n",
    "                x : x_train,\n",
    "                target : y_train\n",
    "            }\n",
    "        )\n",
    "\n",
    "        if i % 10 == 0 :\n",
    "            current_error = sess.run(\n",
    "                error,\n",
    "                feed_dict = {\n",
    "                    x: x_train,\n",
    "                    target : y_train\n",
    "                }\n",
    "            )\n",
    "\n",
    "            true_prediction = tf.equal(tf.argmax(y,axis=1), tf.argmax(target, axis=1))\n",
    "            accuracy = tf.reduce_mean(tf.cast(true_prediction, tf.float32))\n",
    "            accuracy = sess.run(\n",
    "                accuracy,\n",
    "                feed_dict = {\n",
    "                x : x_test,\n",
    "                target : y_test\n",
    "                }\n",
    "            )\n",
    "            \n",
    "            print(f'epoch : {i+1} | Accuracy : {accuracy:.4f} | Error : {current_error:.4f}')"
   ]
  },
  {
   "cell_type": "code",
   "execution_count": null,
   "metadata": {},
   "outputs": [],
   "source": []
  },
  {
   "cell_type": "code",
   "execution_count": null,
   "metadata": {},
   "outputs": [],
   "source": []
  }
 ],
 "metadata": {
  "colab": {
   "collapsed_sections": [],
   "name": "ANN Lab 25-3.ipynb",
   "provenance": []
  },
  "kernelspec": {
   "display_name": "Python 3",
   "language": "python",
   "name": "python3"
  },
  "language_info": {
   "codemirror_mode": {
    "name": "ipython",
    "version": 3
   },
   "file_extension": ".py",
   "mimetype": "text/x-python",
   "name": "python",
   "nbconvert_exporter": "python",
   "pygments_lexer": "ipython3",
   "version": "3.7.6"
  }
 },
 "nbformat": 4,
 "nbformat_minor": 4
}
